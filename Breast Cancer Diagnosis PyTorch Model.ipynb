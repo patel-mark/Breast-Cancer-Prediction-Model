{
 "cells": [
  {
   "cell_type": "code",
   "execution_count": 1,
   "id": "f0430394-98c1-46bf-90e4-94cf20b8cb93",
   "metadata": {},
   "outputs": [],
   "source": [
    "import pandas as pd\n",
    "import numpy as np\n",
    "import matplotlib.pyplot as plt\n",
    "import seaborn as sns\n",
    "import warnings\n",
    "warnings.filterwarnings('ignore')\n",
    "from sklearn.preprocessing import StandardScaler\n",
    "from sklearn.model_selection import train_test_split\n",
    "from sklearn.metrics import accuracy_score,confusion_matrix,classification_report\n",
    "import torch\n",
    "import torch.nn as nn\n",
    "import torch.optim as optim\n",
    "from torch.utils.data import DataLoader, TensorDataset,Dataset,random_split\n"
   ]
  },
  {
   "cell_type": "code",
   "execution_count": null,
   "id": "bb57921a-e352-478d-853b-fd3e652146cd",
   "metadata": {},
   "outputs": [],
   "source": [
    "# Step 1: Load and Preprocess Data\n",
    "def load_and_preprocess_data():\n",
    "    # Load the dataset\n",
    "    df = pd.read_csv('breast-cancer-dataset.csv')\n",
    "    \n",
    "    # Handle missing values (replace '#' with appropriate strategy)\n",
    "    df = df.replace('#', np.nan)\n",
    "    df = df.dropna()\n",
    "    \n",
    "    # Convert categorical variables\n",
    "    categorical_columns = ['Menopause', 'Breast', 'Metastasis', 'History']\n",
    "    for col in categorical_columns:\n",
    "        df[col] = pd.Categorical(df[col]).codes\n",
    "    \n",
    "    # One-hot encode Breast Quadrant\n",
    "    df = pd.get_dummies(df, columns=['Breast Quadrant'])\n",
    "    \n",
    "    # Prepare features and target\n",
    "    features = df.drop(['S/N', 'Year', 'Diagnosis Result'], axis=1)\n",
    "    target = (df['Diagnosis Result'] == 'Malignant').astype(int)\n",
    "    \n",
    "    return features, target"
   ]
  }
 ],
 "metadata": {
  "kernelspec": {
   "display_name": "Python 3 (ipykernel)",
   "language": "python",
   "name": "python3"
  },
  "language_info": {
   "codemirror_mode": {
    "name": "ipython",
    "version": 3
   },
   "file_extension": ".py",
   "mimetype": "text/x-python",
   "name": "python",
   "nbconvert_exporter": "python",
   "pygments_lexer": "ipython3",
   "version": "3.10.0"
  }
 },
 "nbformat": 4,
 "nbformat_minor": 5
}
